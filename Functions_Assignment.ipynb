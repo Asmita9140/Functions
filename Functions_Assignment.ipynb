{
  "nbformat": 4,
  "nbformat_minor": 0,
  "metadata": {
    "colab": {
      "provenance": []
    },
    "kernelspec": {
      "name": "python3",
      "display_name": "Python 3"
    },
    "language_info": {
      "name": "python"
    }
  },
  "cells": [
    {
      "cell_type": "code",
      "source": [
        "#THEORY QUESTIONS:"
      ],
      "metadata": {
        "id": "gyP_Y1nVBmH7"
      },
      "execution_count": null,
      "outputs": []
    },
    {
      "cell_type": "code",
      "source": [
        "#1. What is the difference between a function and a method in Python?\n",
        "\n",
        "    In Python, both functions and methods are blocks of reusable code that perform specific tasks, but there are key differences between them:\n",
        "\n",
        "    1. Function-\n",
        "    A function is an independent block of code that is defined using the def keyword.\n",
        "    It is not tied to any object and can be called directly.\n",
        "    Functions can take arguments and return values.\n",
        "\n",
        "    Example-\n",
        "    def greet(name):\n",
        "    return f\"Hello, {name}!\"\n",
        "\n",
        "    print(greet(\"Priya\"))  # Output: Hello, Priya!\n",
        "\n",
        "    2. Method-\n",
        "    A method is a function that belongs to an object (usually a class instance).\n",
        "    It is called using the object and can access or modify the object's attributes.\n",
        "    Methods are defined within a class and are used to perform operations on the object.\n",
        "    It automatically take self (or cls for class methods) as the first parameter.\n",
        "\n",
        "    Example-\n",
        "    class Person:\n",
        "       def __init__(self, name):\n",
        "           self.name = name\n",
        "\n",
        "       def greet(self):\n",
        "           return f\"Hello, {self.name}!\"\n",
        "\n",
        "    p = Person(\"Priya\")\n",
        "    print(p.greet())  # Output: Hello, Priya!\n"
      ],
      "metadata": {
        "id": "-pJYmFEwB4L_"
      },
      "execution_count": null,
      "outputs": []
    },
    {
      "cell_type": "code",
      "source": [
        "#2. Explain the concept of function arguments and parameters in Python?\n",
        "\n",
        "    It is used to pass values to a function.\n",
        "\n",
        "    Parameters-\n",
        "    Parameters are placeholders in the function definition.\n",
        "    They define what kind of data the function expects.\n",
        "\n",
        "    Example -\n",
        "    def greet(name):  # 'name' is a parameter\n",
        "    print(f\"Hello, {name}!\")\n",
        "\n",
        "    Arguments-\n",
        "    Arguments are the actual values passed to a function when calling it.\n",
        "    They are assigned to the parameters in the function definition.\n",
        "    Arguments are used to provide data to the function.\n",
        "    Arguments can be positional or by keyword.\n",
        "    There are different types of arguments in Python.\n",
        "    1. Positional Arguments\n",
        "    2. Keyword Arguments\n",
        "    3. Default Arguments\n",
        "    4. Variable-Length Arguments\n",
        "    5. Keyword-Variable Length Arguments\n",
        "\n",
        "    Example -\n",
        "    greet(\"Priya\")  # 'Priya' is an argument\n",
        "\n"
      ],
      "metadata": {
        "id": "rhvg4cqMDl-t"
      },
      "execution_count": null,
      "outputs": []
    },
    {
      "cell_type": "code",
      "source": [
        "#3. What are the different ways to define and call a function in Python?\n",
        "\n",
        "    In Python, you define a function using the def keyword, followed by the function name, parentheses, and a colon, then indent the function body.\n",
        "    Functions are called using their name followed by parentheses, and you can pass arguments inside the parentheses.\n",
        "\n",
        "    Example-\n",
        "\n",
        "    def greet(name):  # Function definition\n",
        "    \"\"\"\n",
        "    This function greets the person passed in as an argument.\n",
        "    \"\"\"\n",
        "    print(f\"Hello, {name}!\")\n",
        "\n",
        "    Calling a function\n",
        "    print(greet(\"Priya\"))  # Output: Hello, Priya!\n",
        "\n",
        "    There are different function arguments\n",
        "    Positional Arguments: This Arguments are passed to the function in the order they are defined in the function header.\n",
        "    Keywords Arguments : This Arguments can be passed using their parameter name (e.g., greet(name=\"Ram\")).\n",
        "    Default Arguments: This default arguments is passed to function in the last. It should be at last.\n",
        "    Variable Arduments : This argument takes any number of arguments.\n",
        "    Positional Arguments : This argument is fixed argument.\n",
        "\n",
        "    Few Examples -\n",
        "    1. def sum1 (a,b,c = 0)\n",
        "          return a+b+c\n",
        "\n",
        "        sum1(b = 3, c = 5)\n",
        "        8 # output will be 8 this is default argument\n",
        "\n",
        "    2. def test (*args, a)\n",
        "            return args, a\n",
        "       test (1,2,3,4, == \"Ram\")\n",
        "       ((1, 2, 3, 4), 'Ram') # output will be this, this was variable argument with default argument\n",
        "\n",
        "   Return Values : Functions can optionally return a value using the return statement.\n",
        "\n",
        "   Example -\n",
        "   def add(a, b):\n",
        "    return a + b\n",
        "\n",
        "   result = add(5, 3)\n",
        "   print(result)  # Output: 8\n",
        "\n",
        " These were few ways to define or to call a function."
      ],
      "metadata": {
        "id": "0NmPSrEPGlb8"
      },
      "execution_count": null,
      "outputs": []
    },
    {
      "cell_type": "code",
      "source": [
        "#4. What is the purpose of the `return` statement in a Python function?\n",
        "\n",
        "    The return statement in a Python function is used to send a value (or multiple values) back to the caller. It effectively ends the function's\n",
        "    execution and specifies the result of the function.\n",
        "    It allows a function to produce an output that can be used any where in the program.\n",
        "    Example\n",
        "    def addition(a, b):\n",
        "    return a + b\n",
        "\n",
        "    result = addition(5, 3)\n",
        "    8 # this will be the output\n",
        "\n",
        "    Once return statement is passed it will stop the execution of the function.\n",
        "    def example():\n",
        "    print(\"PW Skills\")\n",
        "    return\n",
        "    print(\"Skills PW\")  # This line will never be executed.\n",
        "\n",
        "    example()  # Output: PW Skills\n",
        "\n",
        "    If no return statement is provided, Python functions return None by default.\n"
      ],
      "metadata": {
        "id": "FE9UbkZfOio1"
      },
      "execution_count": null,
      "outputs": []
    },
    {
      "cell_type": "code",
      "source": [
        "#5. What are iterators in Python and how do they differ from iterables?\n",
        "\n",
        "    An iterator is an object that represents a stream of data and is used to iterate over an iterable.\n",
        "    It works is to return the data one by one.\n",
        "    It must implement both __iter__() (returns the iterator itself) and __next__() (returns the next item in sequence).\n",
        "    When there are no more items to return, __next__() raises StopIteration.\n",
        "    Ex- Iterator from iter([1, 2, 3])\n",
        "\n",
        "    An iterable is any Python object that can return an iterator when passed to iter().\n",
        "    Examples: Lists, tuples, dictionaries, strings, and sets.\n",
        "    It must implement the __iter__() method.\n",
        "    Ex-\n",
        "    my_list = [1, 2, 3, 4, 5]\n",
        "    my_iterator = iter(my_list)\n",
        "\n",
        "    Example-\n",
        "    l = iter([1,2,3,4,5])\n",
        "    l\n",
        "    next(l)\n",
        "    1 #this will be output\n",
        "    next(l)\n",
        "    2 #this will be output\n",
        "    next(l)\n",
        "    3 #this will be output\n",
        "    next(l)\n",
        "    4 #this will be output\n",
        "    next(l)\n",
        "    5 #this will be output\n",
        "    next(l)\n",
        "    StopIteration #this will be output\n",
        "\n"
      ],
      "metadata": {
        "id": "r_h8UdCESDjq"
      },
      "execution_count": null,
      "outputs": []
    },
    {
      "cell_type": "code",
      "source": [
        "#6. Explain the concept of generators in Python and how they are defined?\n",
        "\n",
        "    Generators in Python are a special type of iterable that allow you to generate values lazily, meaning they produce values one at a time as\n",
        "    needed, rather than storing them all in memory at once. This makes them memory-efficient and useful for working with large datasets or infinite\n",
        "    sequences.\n",
        "    Generators are defined using functions with the yield keyword instead of return. When a generator function is called, it does not execute\n",
        "    immediately but instead returns a generator object that can be iterated over.\n",
        "    Each time yield is executed, the function's state is saved, and execution resumes from there the next time the generator is called.\n",
        "    In regular function single value (return) in generator function yield is returned.\n",
        "    You can manually retrieve values using the next() function.\n",
        "    Python also provides a compact way to create generators using generator expressions, similar to list comprehensions but with () instead of [].\n",
        "\n",
        "    Example-\n",
        "    def square_generator(n):\n",
        "    for i in range(n):\n",
        "        yield i ** 2\n",
        "\n",
        "    # Using the generator\n",
        "    for square in square_generator(5):\n",
        "        print(square)\n",
        "\n",
        "    Output:\n",
        "    0\n",
        "    1\n",
        "    4\n",
        "    9\n",
        "    16\n"
      ],
      "metadata": {
        "id": "K1Gw1FcdWR0p"
      },
      "execution_count": null,
      "outputs": []
    },
    {
      "cell_type": "code",
      "source": [
        "#7. What are the advantages of using generators over regular functions?\n",
        "\n",
        "    Generators have several advantages over regular functions, especially when dealing with large datasets or streaming data.\n",
        "\n",
        "    1- Generators are memory efficient. Regular functions return entire lists or data structures, which can consume a lot of memory.\n",
        "    Generators yield one item at a time, keeping memory usage minimal.\n",
        "\n",
        "    2- It executes only when required. Generators only compute values when needed, avoiding unnecessary calculations. This is useful when dealing\n",
        "    with infinite sequences or large files.\n",
        "\n",
        "    3- It has better performance. Since they generate values lazily, generators can be faster for iterating large datasets. They avoid creating\n",
        "    large intermediate structures.\n",
        "\n",
        "    4- Using yield makes creating iterators easier compared to defining classes with __iter__() and __next__().\n",
        "\n",
        "    Example-\n",
        "    def fib(n):\n",
        "    a, b = 0, 1\n",
        "    for _ in range(n):\n",
        "        yield a\n",
        "        a, b = b, a + b\n",
        "\n",
        "    # Using the generator\n",
        "    for num in fib(5):\n",
        "        print(num)\n",
        "\n",
        "    The function fibonacci() does not return a list; instead, it yields one number at a time.\n",
        "    Each time next(fib_gen) is called, execution resumes from where it left off.\n"
      ],
      "metadata": {
        "id": "da7LRVMNdE-E"
      },
      "execution_count": null,
      "outputs": []
    },
    {
      "cell_type": "code",
      "source": [
        "#8. What is a lambda function in Python and when is it typically used?\n",
        "\n",
        "    A lambda function in Python is an anonymous function (a function without a name) that is defined using the lambda keyword. It can have multiple\n",
        "    arguments but only a single expression, which is evaluated and returned.\n",
        "    When a function is small and only used once, defining it as a lambda avoids unnecessary function declarations.\n",
        "    sed to define a sorting key.\n",
        "\n",
        "    Syntax -\n",
        "    lambda arguments: expression\n",
        "\n",
        "    Example-\n",
        "    sq_lambda = lambda x:x**2\n",
        "      sq_lambda(2)\n",
        "      4 #this will be the output\n",
        "      sq_lambda(3)\n",
        "      9 #this will be the output\n"
      ],
      "metadata": {
        "id": "3obqcu4Rg3mV"
      },
      "execution_count": null,
      "outputs": []
    },
    {
      "cell_type": "code",
      "source": [
        "#9. Explain the purpose and usage of the `map()` function in Python?\n",
        "    The map() function in Python is used to apply a given function to all items in an iterable (such as a list or tuple) and return a map object\n",
        "    (an iterator). It is a built-in function that provides an efficient and concise way to transform elements in an iterable without using explicit\n",
        "    loops.\n",
        "    Map executes a specified function for each item of iterable. More concise than using for loops.\n",
        "    Faster than using list comprehensions in some cases.\n",
        "    It works well with built-in functions like str, int, float, etc.\n",
        "\n",
        "    Syntax-\n",
        "    map(function, iterable, ...)\n",
        "    The result is a map object, which is an iterator. To convert it into a list or another data structure, you can use list(), tuple(), or other\n",
        "    constructors.\n",
        "\n",
        "    Example-\n",
        "    l\n",
        "    [1, 2, 3, 4, 5]\n",
        "    list(map(lambda x: x**2, l))\n",
        "    [1, 4, 9, 16, 25] #output will be this\n",
        "\n",
        "    map() is preferable when working with functions that are already defined.\n"
      ],
      "metadata": {
        "id": "tM1ZlL7GiMV-"
      },
      "execution_count": null,
      "outputs": []
    },
    {
      "cell_type": "code",
      "source": [
        "#10. What is the difference between `map()`, `reduce()`, and `filter()` functions in Python?\n",
        "    In Python, map(), reduce(), and filter() are higher-order functions that operate on iterables. Each serves a different purpose:\n",
        "\n",
        "    Map Function-\n",
        "    Applies a given function to each item in an iterable and returns a map object (which can be converted to a list, tuple, etc.).\n",
        "    It is used when you want to transform each element in an iterable.\n",
        "\n",
        "    Example-\n",
        "    l = [1,2,3,4,5]\n",
        "    list(map(lanbda x: x+10,l))\n",
        "    [11,12,13,14,15] #this is the output\n",
        "\n",
        "    Filter Function-\n",
        "    Filters elements from an iterable based on a given function.\n",
        "    It returns an iterator containing the elements for which the function returns True.\n",
        "    Filters elements from an iterable based on whether they satisfy a given condition (i.e., function returns True).\n",
        "    When you want to keep only specific elements from an iterable based on a condition\n",
        "\n",
        "    Example-\n",
        "    l = [1,2,3,4,5,6,7,8,9,10]\n",
        "    list(filter(lambda x: x%2 == 0, l))\n",
        "\n",
        "    (2, 4, 6, 8, 10) #this is the output\n",
        "\n",
        "    Reduce Fuction-\n",
        "    Reduce an iterable to a single value by cumulatively applying a function (from functools module).\n",
        "    This is not a python library we have to import it.\n",
        "    When you want to aggregate values, such as summing or multiplying all elements then it is used.\n",
        "\n",
        "    Syntax- reduce(func, iterable)\n",
        "\n",
        "    Example-\n",
        "    l = [2,1,3,4,4,5,6]\n",
        "    reduce(lambda x,y: x+y, l)\n",
        "    25 #this is the output\n"
      ],
      "metadata": {
        "id": "pnXETf4PkjU2"
      },
      "execution_count": null,
      "outputs": []
    },
    {
      "cell_type": "markdown",
      "source": [
        "![ques 11.jpg](data:image/jpeg;base64,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)#11. Using pen & Paper write the internal mechanism for sum operation using  reduce function on this given:[47,11,42,13];\n",
        "\n",
        "\n"
      ],
      "metadata": {
        "id": "Tcqb1DTS7wfA"
      }
    },
    {
      "cell_type": "markdown",
      "source": [
        "Practical Questions"
      ],
      "metadata": {
        "id": "DHuIteZdJeoG"
      }
    },
    {
      "cell_type": "code",
      "source": [
        "#1. Write a Python function that takes a list of numbers as input and returns the sum of all even numbers in the list.\n",
        "\n",
        "def sum_of_evens(numbers):\n",
        "  return sum(num for num in numbers if num % 2 == 0)\n",
        "\n",
        "nums = [1,2,3,4,5,6,7,8,9,10]\n",
        "print(sum_of_evens(nums))  # [2, 4, 6, 8, 10] , 2 + 4 + 6 + 8 + 10 = 30\n"
      ],
      "metadata": {
        "colab": {
          "base_uri": "https://localhost:8080/"
        },
        "id": "bXbBnKg8Jl8u",
        "outputId": "24c528fb-d3ef-4c05-abca-bbef545fe7fd"
      },
      "execution_count": null,
      "outputs": [
        {
          "output_type": "stream",
          "name": "stdout",
          "text": [
            "30\n"
          ]
        }
      ]
    },
    {
      "cell_type": "code",
      "source": [
        "#2. Create a Python function that accepts a string and returns the reverse of that string?\n",
        "\n",
        "def reverse_str(s):\n",
        "    return s[::-1]\n",
        "\n",
        "print(reverse_str(\"Hello World\"))"
      ],
      "metadata": {
        "id": "NktA0wNCU8Ko",
        "colab": {
          "base_uri": "https://localhost:8080/"
        },
        "outputId": "1ea3188f-20d5-4636-93f3-600fde195cd5"
      },
      "execution_count": null,
      "outputs": [
        {
          "output_type": "stream",
          "name": "stdout",
          "text": [
            "dlroW olleH\n"
          ]
        }
      ]
    },
    {
      "cell_type": "code",
      "source": [
        "#3.  Implement a Python function that takes a list of integers and returns a new list containing the squares of each number.\n",
        "\n",
        "def square(nums):\n",
        "  return [num**2 for num in nums]\n",
        "\n",
        "print(square([1,2,3,4,5]))\n"
      ],
      "metadata": {
        "colab": {
          "base_uri": "https://localhost:8080/"
        },
        "id": "gFepgTxjWR9E",
        "outputId": "6cc1e83e-20ce-4b74-df31-e428c4c96bbd"
      },
      "execution_count": null,
      "outputs": [
        {
          "output_type": "stream",
          "name": "stdout",
          "text": [
            "[1, 4, 9, 16, 25]\n"
          ]
        }
      ]
    },
    {
      "cell_type": "code",
      "source": [
        "#4.  Write a Python function that checks if a given number is prime or not from 1 to 200.\n",
        "\n",
        "def is_prime(n):\n",
        "    if n < 2:\n",
        "        return False\n",
        "    for i in range(2, int(n ** 0.5) + 1):\n",
        "        if n % i == 0:\n",
        "            return False\n",
        "    return True\n",
        "\n",
        "for num in range(1, 201): # Testing the function for numbers from 1 to 200\n",
        "    if is_prime(num):\n",
        "        print(num, \"is a prime number\")\n"
      ],
      "metadata": {
        "colab": {
          "base_uri": "https://localhost:8080/"
        },
        "id": "31QMRyRaW_37",
        "outputId": "20c0b58a-8096-49ea-8717-6984287e63db"
      },
      "execution_count": null,
      "outputs": [
        {
          "output_type": "stream",
          "name": "stdout",
          "text": [
            "2 is a prime number\n",
            "3 is a prime number\n",
            "5 is a prime number\n",
            "7 is a prime number\n",
            "11 is a prime number\n",
            "13 is a prime number\n",
            "17 is a prime number\n",
            "19 is a prime number\n",
            "23 is a prime number\n",
            "29 is a prime number\n",
            "31 is a prime number\n",
            "37 is a prime number\n",
            "41 is a prime number\n",
            "43 is a prime number\n",
            "47 is a prime number\n",
            "53 is a prime number\n",
            "59 is a prime number\n",
            "61 is a prime number\n",
            "67 is a prime number\n",
            "71 is a prime number\n",
            "73 is a prime number\n",
            "79 is a prime number\n",
            "83 is a prime number\n",
            "89 is a prime number\n",
            "97 is a prime number\n",
            "101 is a prime number\n",
            "103 is a prime number\n",
            "107 is a prime number\n",
            "109 is a prime number\n",
            "113 is a prime number\n",
            "127 is a prime number\n",
            "131 is a prime number\n",
            "137 is a prime number\n",
            "139 is a prime number\n",
            "149 is a prime number\n",
            "151 is a prime number\n",
            "157 is a prime number\n",
            "163 is a prime number\n",
            "167 is a prime number\n",
            "173 is a prime number\n",
            "179 is a prime number\n",
            "181 is a prime number\n",
            "191 is a prime number\n",
            "193 is a prime number\n",
            "197 is a prime number\n",
            "199 is a prime number\n"
          ]
        }
      ]
    },
    {
      "cell_type": "code",
      "source": [
        "#5. Create an iterator class in Python that generates the Fibonacci sequence up to a specified number of terms.\n",
        "\n",
        "class FibonacciIterator:\n",
        "    def __init__(self, n):\n",
        "        self.n = n  # Number of terms\n",
        "        self.a, self.b = 0, 1  # First two Fibonacci numbers\n",
        "        self.count = 0  # Counter to track the number of terms generated\n",
        "\n",
        "    def __iter__(self):\n",
        "        return self  # Returns the iterator object itself\n",
        "\n",
        "    def __next__(self):\n",
        "        if self.count >= self.n:\n",
        "            raise StopIteration  # Stops iteration when the limit is reached\n",
        "\n",
        "        fib_number = self.a\n",
        "        self.a, self.b = self.b, self.a + self.b  # Update values for the next iteration\n",
        "        self.count += 1\n",
        "        return fib_number\n",
        "\n",
        "# Example usage:\n",
        "def generate_fibonacci(n_terms):\n",
        "    fib_list = []\n",
        "    for num in FibonacciIterator(n_terms):\n",
        "        fib_list.append(num)\n",
        "    return fib_list\n",
        "\n",
        "n_terms = 10  # Define the number of Fibonacci numbers to generate\n",
        "print(generate_fibonacci(n_terms))\n",
        "\n"
      ],
      "metadata": {
        "colab": {
          "base_uri": "https://localhost:8080/"
        },
        "id": "rBou0daQZD2y",
        "outputId": "6223f47c-0209-43b2-a042-0ead22d46d62"
      },
      "execution_count": null,
      "outputs": [
        {
          "output_type": "stream",
          "name": "stdout",
          "text": [
            "[0, 1, 1, 2, 3, 5, 8, 13, 21, 34]\n"
          ]
        }
      ]
    },
    {
      "cell_type": "code",
      "source": [
        "#6. Write a generator function in Python that yields the powers of 2 up to a given exponent.\n",
        "\n",
        "def square_number_generate(n):\n",
        "  for i in range(n+1):\n",
        "    yield 2**i\n",
        "\n",
        "for i in square_number_generate(5):\n",
        "  print(i)\n"
      ],
      "metadata": {
        "colab": {
          "base_uri": "https://localhost:8080/"
        },
        "id": "LKasqSfedglA",
        "outputId": "0782244f-1a8f-4a99-d63d-36b4073259df"
      },
      "execution_count": null,
      "outputs": [
        {
          "output_type": "stream",
          "name": "stdout",
          "text": [
            "1\n",
            "2\n",
            "4\n",
            "8\n",
            "16\n",
            "32\n"
          ]
        }
      ]
    },
    {
      "cell_type": "code",
      "source": [
        "#7.  Implement a generator function that reads a file line by line and yields each line as a string.\n",
        "\n",
        "def read_file_line_by_line(file_path):\n",
        "    with open(file_path, 'r') as file:\n",
        "        for line in file:\n",
        "            yield line"
      ],
      "metadata": {
        "id": "SzN9n5VdecXS"
      },
      "execution_count": null,
      "outputs": []
    },
    {
      "cell_type": "code",
      "source": [
        "#8.  Use a lambda function in Python to sort a list of tuples based on the second element of each tuple.\n",
        "\n",
        "x = [(1, 3), (4, 1), (2, 2), (5, 0)]\n",
        "\n",
        "sorted(x,key = lambda x : x[1])"
      ],
      "metadata": {
        "colab": {
          "base_uri": "https://localhost:8080/"
        },
        "id": "61-t0ViXfIBr",
        "outputId": "5586cdfa-0d4a-47ff-ac68-7ad48fffbcb5"
      },
      "execution_count": null,
      "outputs": [
        {
          "output_type": "execute_result",
          "data": {
            "text/plain": [
              "[(5, 0), (4, 1), (2, 2), (1, 3)]"
            ]
          },
          "metadata": {},
          "execution_count": 7
        }
      ]
    },
    {
      "cell_type": "code",
      "source": [
        "#9. Write a Python program that uses `map()` to convert a list of temperatures from Celsius to Fahrenheit.\n",
        "\n",
        "# Function to convert Celsius to Fahrenheit\n",
        "def celsius_to_fahrenheit(celsius):\n",
        "    return (celsius * 9/5) + 32\n",
        "\n",
        "temperatures_celsius = [0, 20, 37, 100, -10, 15] # List of temperatures in Celsius\n",
        "\n",
        "temperatures_fahrenheit = list(map(celsius_to_fahrenheit, temperatures_celsius))\n",
        "\n",
        "print(\"Temperatures in Celsius:\", temperatures_celsius)\n",
        "print(\"Temperatures in Fahrenheit:\", temperatures_fahrenheit)\n"
      ],
      "metadata": {
        "colab": {
          "base_uri": "https://localhost:8080/"
        },
        "id": "rW_sw9n1ggh_",
        "outputId": "d2a96e1f-c1a8-4d8f-9cab-ecddd9d2d4c2"
      },
      "execution_count": null,
      "outputs": [
        {
          "output_type": "stream",
          "name": "stdout",
          "text": [
            "Temperatures in Celsius: [0, 20, 37, 100, -10, 15]\n",
            "Temperatures in Fahrenheit: [32.0, 68.0, 98.6, 212.0, 14.0, 59.0]\n"
          ]
        }
      ]
    },
    {
      "cell_type": "code",
      "source": [
        "#10. Create a Python program that uses `filter()` to remove all the vowels from a given string.\n",
        "\n",
        "def remove_vowels(s):\n",
        "    vowels = \"aeiouAEIOU\"\n",
        "    return \"\".join(filter(lambda char: char not in vowels, s))\n",
        "\n",
        "input_string = \"Hello, World!\"\n",
        "result = remove_vowels(input_string)\n",
        "print(\"Original string:\", input_string)\n",
        "print(\"String without vowels:\", result)\n"
      ],
      "metadata": {
        "colab": {
          "base_uri": "https://localhost:8080/"
        },
        "id": "mOpeFewPg-5l",
        "outputId": "9c3615fb-df60-48ca-ae05-23c4a7cd37e1"
      },
      "execution_count": null,
      "outputs": [
        {
          "output_type": "stream",
          "name": "stdout",
          "text": [
            "Original string: Hello, World!\n",
            "String without vowels: Hll, Wrld!\n"
          ]
        }
      ]
    },
    {
      "cell_type": "code",
      "source": [
        "#11.\n",
        "orders = [\n",
        "    (34587, \"Learning Python, Mark Lutz\",4, 40.95),\n",
        "    (98762, \"Programming Python, Mark Lutz\",5, 56.80),\n",
        "    (77226, \"Head First Python, Paul Barry\",3, 32.95),\n",
        "    (88112, \"Einführung in Python3, Bernd Klein\",3, 24.99)\n",
        "    ]\n",
        "\n",
        "result = list(map(lambda order: (order[0], order[2] * order[3] + (10 if order[2]*order[3] < 100 else 0)), orders))\n",
        "\n",
        "print(result)"
      ],
      "metadata": {
        "colab": {
          "base_uri": "https://localhost:8080/"
        },
        "id": "K_fFRx6uidE3",
        "outputId": "c1192bed-2151-4f66-813d-eda0a2d676f6"
      },
      "execution_count": null,
      "outputs": [
        {
          "output_type": "stream",
          "name": "stdout",
          "text": [
            "[(34587, 163.8), (98762, 284.0), (77226, 108.85000000000001), (88112, 84.97)]\n"
          ]
        }
      ]
    }
  ]
}